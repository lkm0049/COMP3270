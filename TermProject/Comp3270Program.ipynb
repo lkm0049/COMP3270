{
 "cells": [
  {
   "cell_type": "markdown",
   "id": "e474ebdd-058f-4693-9aa2-0f53a9009d75",
   "metadata": {},
   "source": [
    "<h1><b><center>Liam Maher & Aiden Townsend\n",
    "Comp 3270 Programming Assignment</center></b></h1>"
   ]
  },
  {
   "cell_type": "markdown",
   "id": "627d6cff-4f2b-48fc-bdcb-48cbd883ee1f",
   "metadata": {},
   "source": [
    "<h2><b>Introduction</b></h2>"
   ]
  },
  {
   "cell_type": "markdown",
   "id": "41b23df0-3ac4-4eb1-a364-14987ab21ce7",
   "metadata": {},
   "source": [
    "This notebook presents an empirical analysis of algorithms focusing on both Matrix Multiplication and Matrix-Chain Multiplication. The goal is to implement the provided algorithms, generate data frames, visualize growth rates, and compare empirical results with theoretical predictions."
   ]
  },
  {
   "cell_type": "markdown",
   "id": "ed8b0580-9417-43e6-8a7d-ac9ea719aff6",
   "metadata": {},
   "source": [
    "<h3>Step 1: Import Necessary Libraries</h3>"
   ]
  },
  {
   "cell_type": "markdown",
   "id": "b86509e8-1ecf-4a26-a3e5-59494dfa7605",
   "metadata": {},
   "source": [
    "The following code imports the libraries needed for the experiment.  As mentioned in the project instructions, pandas, numpy, and time are used, as well as matplotlib.pyplot for visualization purposes."
   ]
  },
  {
   "cell_type": "code",
   "execution_count": 1,
   "id": "d7f40f5c-bf68-43b1-abe6-02e163974dc4",
   "metadata": {},
   "outputs": [],
   "source": [
    "import pandas as pd\n",
    "import numpy as np\n",
    "import time\n",
    "import matplotlib.pyplot as plt"
   ]
  },
  {
   "cell_type": "markdown",
   "id": "c93a3b8d-b0ba-40d5-ae53-7c00bb4cd869",
   "metadata": {},
   "source": [
    "<h3>Step 2: Implement Algorithms</h3>"
   ]
  },
  {
   "cell_type": "markdown",
   "id": "9af7a2ba-66b4-4fd1-bed4-08f9c3a66c05",
   "metadata": {},
   "source": [
    "<h4>Algorithm-1</h4>"
   ]
  },
  {
   "cell_type": "markdown",
   "id": "30b1c5dd-be1f-4648-b825-898239c2db19",
   "metadata": {},
   "source": [
    "The following code is my implementation of Algorithm-1 provided in the project details. The inputs are A and B, two matrices that are of size pxq and qxr respectively, as well as a matrix C that is of dimensions pxr that contains the result of the iterative matrix multiplication of A and B."
   ]
  },
  {
   "cell_type": "code",
   "execution_count": 2,
   "id": "85c736b6-8066-4cc1-b777-b9d5a436f402",
   "metadata": {},
   "outputs": [],
   "source": [
    "def algorithm_1(A, B, C, p, q, r):\n",
    "        for i in range(p):  \n",
    "            for j in range(r):\n",
    "                sum_val = 0\n",
    "                for k in range(q):\n",
    "                    sum_val += A[i][k] * B[k][j]\n",
    "                C[i][j] = sum_val\n",
    "        return C"
   ]
  },
  {
   "cell_type": "markdown",
   "id": "d9f0b544-5759-4548-af2b-90d07a5b04b3",
   "metadata": {},
   "source": [
    "<h4>Algorithm-2</h4>"
   ]
  },
  {
   "cell_type": "markdown",
   "id": "12c88637-c934-4820-8b86-b255ee385429",
   "metadata": {},
   "source": [
    "The following code is my implementation of Algorithm-2 provided in the project details. The inputs are A and B, two matrices that are of size pxq and qxr respectively, as well as a matrix C that is of dimensions pxr that contains the result of the iterative matrix multiplication of A and B. T is the tile size and acts to increment I, J, K, etc. withing the loop"
   ]
  },
  {
   "cell_type": "code",
   "execution_count": 3,
   "id": "d0c21d42-e8b5-4f1f-9dd9-bbbdd08cff05",
   "metadata": {},
   "outputs": [],
   "source": [
    "def algorithm_2(A, B, C, p, q, r, T=5):\n",
    "    for I in range(0, p, T):\n",
    "        for J in range(0, r, T):\n",
    "            for K in range(0, q, T):\n",
    "                for i in range(I, min(I + T, p)):\n",
    "                    for j in range(J, min(J + T, r)):\n",
    "                        sum_val = 0\n",
    "                        for k in range(K, min(K + T, q)):\n",
    "                            sum_val += A[i][k] * B[k][j]\n",
    "                        C[i][j] += sum_val\n",
    "    return C"
   ]
  },
  {
   "cell_type": "markdown",
   "id": "a2ec7e2e-6cc5-4200-892f-3dfd304bcaac",
   "metadata": {},
   "source": [
    "<h4>Algorithm-3</h4>"
   ]
  },
  {
   "cell_type": "markdown",
   "id": "9a454eb9-300c-4a78-a8fa-c09c66b1a4e4",
   "metadata": {},
   "source": [
    "The following code is my implementation of Algorithm-3 provided in the project details.  The inputs are A and B, two matrices that are of size pxq and qxr respectively, as well as a matrix C that is of dimensions pxr that contains the result of the recursive matrix multiplication of A and B."
   ]
  },
  {
   "cell_type": "markdown",
   "id": "55f521d6-517d-49ba-a6b7-12554421e3d9",
   "metadata": {},
   "source": [
    "NOTE: Github's coding assistance AI copilot was used in order to generate the \"Split matrices\" as well as the \"Combine results into C\" code commented in the code below, it was then adapted to work for the entire algorithm."
   ]
  },
  {
   "cell_type": "code",
   "execution_count": 4,
   "id": "4bc46986-a86c-42cc-95ea-02976c5dcb99",
   "metadata": {},
   "outputs": [],
   "source": [
    "def algorithm_3(A, B, C, p, q, r):\n",
    "    if max(p, q, r) < 8:\n",
    "        return algorithm_1(A, B, C, p, q, r)\n",
    "    else:\n",
    "        if max(p, q, r) == p:\n",
    "            split_axis = 0  # Split A horizontally\n",
    "        elif max(p, q, r) == r:\n",
    "            split_axis = 1  # Split B vertically\n",
    "        else:\n",
    "            split_axis = 0  # Split A vertically and B horizontally\n",
    "        \n",
    "        # Split matrices #GitHub Copilot\n",
    "        half_index = p // 2 if split_axis == 0 else r // 2\n",
    "        A1, A2 = np.split(A, [half_index], axis=split_axis)\n",
    "        B1, B2 = np.split(B, [half_index], axis=1 - split_axis)\n",
    "        \n",
    "        # Recursive matrix multiplication\n",
    "        C1 = algorithm_3(A1, B1, None, *A1.shape, *B1.shape)\n",
    "        C2 = algorithm_3(A1, B2, None, *A1.shape, *B2.shape)\n",
    "        C3 = algorithm_3(A2, B1, None, *A2.shape, *B1.shape)\n",
    "        C4 = algorithm_3(A2, B2, None, *A2.shape, *B2.shape)\n",
    "        \n",
    "        # Combine results into C #GitHub Copilot\n",
    "        C[:C1.shape[0], :C1.shape[1]] = C1\n",
    "        C[:C2.shape[0], C1.shape[1]:] = C2\n",
    "        C[C1.shape[0]:, :C3.shape[1]] = C3\n",
    "        C[C1.shape[0]:, C3.shape[1]:] = C4\n",
    "        \n",
    "        return C"
   ]
  },
  {
   "cell_type": "markdown",
   "id": "a2a546e2-c57d-4e2b-aad2-ca0b67a2e51e",
   "metadata": {},
   "source": [
    "<h4>Algorithm-4</h4>"
   ]
  },
  {
   "cell_type": "markdown",
   "id": "24b81a1c-dbcc-4bd9-ba4e-5c85843d85e7",
   "metadata": {},
   "source": [
    "The following code is my implementation of Algorithm-4 provided in the project details.  The inputs are The inputs A and B are 2^n x 2^n matrices that are partitioned into 4 equal blocks of size 2^(n/2) and 2^(n/2) and the intermediate matrices are computed and then combined into matrix C which is a 2^n x 2^n matrix that holds the output matrix for the multiplication of A and B."
   ]
  },
  {
   "cell_type": "code",
   "execution_count": 5,
   "id": "28b7848d-7a3b-4940-ae91-32ddd93e083a",
   "metadata": {},
   "outputs": [],
   "source": [
    "def algorithm_4(A, B, C):\n",
    "    n = len(A)\n",
    "    if n == 1:\n",
    "        C[0][0] = A[0][0] * B[0][0]\n",
    "    else:\n",
    "        mid = n // 2\n",
    "\n",
    "        # Partition A and B into 4 equal-sized blocks\n",
    "        A11 = A[:mid, :mid]\n",
    "        A12 = A[:mid, mid:]\n",
    "        A21 = A[mid:, :mid]\n",
    "        A22 = A[mid:, mid:]\n",
    "\n",
    "        B11 = B[:mid, :mid]\n",
    "        B12 = B[:mid, mid:]\n",
    "        B21 = B[mid:, :mid]\n",
    "        B22 = B[mid:, mid:]\n",
    "\n",
    "        # Compute intermediate matrices using block partitioning\n",
    "        P1 = A11 @ B11 + A12 @ B21\n",
    "        P2 = A11 @ B12 + A12 @ B22\n",
    "        P3 = A21 @ B11 + A22 @ B21\n",
    "        P4 = A21 @ B12 + A22 @ B22\n",
    "\n",
    "        # Combine intermediate results into the result matrix C\n",
    "        C[:mid, :mid] = P1\n",
    "        C[:mid, mid:] = P2\n",
    "        C[mid:, :mid] = P3\n",
    "        C[mid:, mid:] = P4\n",
    "\n",
    "    return C"
   ]
  },
  {
   "cell_type": "markdown",
   "id": "1d19dc86-d083-4892-a218-bcde569c90b2",
   "metadata": {},
   "source": [
    "<h4>Algorithm-5</h4>"
   ]
  },
  {
   "cell_type": "markdown",
   "id": "ecef5e3c-12e3-4c89-a74d-87c6f1fd6a8d",
   "metadata": {},
   "source": [
    "The following code is my implementation of Algorithm-5 provided in the project details.  This algorithm utilizes Strassens Algorithm for Matrix Multiplication.  The inputs are The inputs A and B are 2^n x 2^n matrices that are partitioned into 4 equal blocks of size 2^(n/2) and 2^(n/2) and then calculated into matrix C, a 2^n x 2^n matrix.  If n (in 2^n) is less than 3, then the algorithm decides to take an iterative approach by calling Algorithm-1 from before."
   ]
  },
  {
   "cell_type": "code",
   "execution_count": 6,
   "id": "d9242c2b-5a50-4cf4-9708-03d3bbbeec39",
   "metadata": {},
   "outputs": [],
   "source": [
    "def algorithm_5(A, B, C):\n",
    "        n = int(np.log2(len(A)))\n",
    "        if n < 3:\n",
    "            algorithm_1(A, B, C, 2 ** n, 2 ** n, 2 ** n)\n",
    "        else:\n",
    "            A11 = A[:n, :n]\n",
    "            A12 = A[:n, n:]\n",
    "            A21 = A[n:,:n]\n",
    "            A22 = A[n:, n:]\n",
    "\n",
    "            B11 = B[:n, :n]\n",
    "            B12 = B[:n, n:]\n",
    "            B21 = B[n:, :n]\n",
    "            B22 = B[n:, n:]\n",
    "\n",
    "            M1 = (A11 + A22) @ (B11 + B22)\n",
    "            M2 = (A21 + A22) @ B11\n",
    "            M3 = A11 @ (B12 - B22)\n",
    "            M4 = A22 @ (B21 - B11)\n",
    "            M5 = (A11 + A12) @ B22\n",
    "            M6 = (A21 - A11) @ (B11 + B12)\n",
    "            M7 = (A12 - A22) @ (B21 + B22)\n",
    "\n",
    "            C11 = M1 + M4 - M5 + M7\n",
    "            C12 = M3 + M5\n",
    "            C21 = M2 + M4\n",
    "            C22 = M1 - M2 + M3 + M6\n",
    "\n",
    "            C[:n, :n] = C11\n",
    "            C[:n, n:] = C12\n",
    "            C[n:, :n] = C21\n",
    "            C[n:, n:] = C22\n",
    "        return C"
   ]
  },
  {
   "cell_type": "markdown",
   "id": "af3b5ffa-eab5-472c-8816-d481f7d03449",
   "metadata": {},
   "source": [
    "<h3>Step 3: Matrix Multiplication Problem</h3>"
   ]
  },
  {
   "cell_type": "markdown",
   "id": "17d7a117-42de-4266-a798-2527afb97432",
   "metadata": {},
   "source": [
    "The following code completes parts (a) of the Matrix Multiplication problem detailed in the project description.  It reads an input file that has a list of 16 numbers seperated by commas and then another 16 numbers after a semicolon. It then creates 2 4x4 matrices with the list of numbers and multiplies them together with each of the algorithms 1-5 detailed above.  After this, it prints the result of the matrix Multiplication."
   ]
  },
  {
   "cell_type": "code",
   "execution_count": 7,
   "id": "2489e29d-55c5-4db7-ae13-531e85c79133",
   "metadata": {},
   "outputs": [
    {
     "name": "stdout",
     "output_type": "stream",
     "text": [
      "Algorithm-1: \n",
      "[[ 46. 128.  46.  46.]\n",
      " [ 62. 254.  62.  62.]\n",
      " [ 22.  63.  22.  22.]\n",
      " [ 16.  48.  16.  16.]];\n",
      " Algorithm-2: \n",
      "[[ 46. 128.  46.  46.]\n",
      " [ 62. 254.  62.  62.]\n",
      " [ 22.  63.  22.  22.]\n",
      " [ 16.  48.  16.  16.]];\n",
      " Algorithm-3: \n",
      "[[ 46. 128.  46.  46.]\n",
      " [ 62. 254.  62.  62.]\n",
      " [ 22.  63.  22.  22.]\n",
      " [ 16.  48.  16.  16.]];\n",
      " Algorithm-4: \n",
      "[[ 46. 128.  46.  46.]\n",
      " [ 62. 254.  62.  62.]\n",
      " [ 22.  63.  22.  22.]\n",
      " [ 16.  48.  16.  16.]];\n",
      " Algorithm-5: \n",
      "[[ 46. 128.  46.  46.]\n",
      " [ 62. 254.  62.  62.]\n",
      " [ 22.  63.  22.  22.]\n",
      " [ 16.  48.  16.  16.]]\n",
      "\n"
     ]
    }
   ],
   "source": [
    "\n",
    "filename = 'input.txt'\n",
    "with open(filename, 'r') as file:\n",
    "    line = file.readline().strip()\n",
    "    seq1, seq2 = map(str.strip, line.split(';'))\n",
    "\n",
    "# Convert sequences to arrays and reshape to 4x4 matrices\n",
    "matrix_a = np.array(seq1.split(','), dtype=int).reshape(4, 4)\n",
    "matrix_b = np.array(seq2.split(','), dtype=int).reshape(4, 4)\n",
    "\n",
    "result_algorithm_1 = np.zeros((4, 4))\n",
    "result_algorithm_2 = np.zeros((4, 4))\n",
    "result_algorithm_3 = np.zeros((4, 4))\n",
    "result_algorithm_4 = np.zeros((4, 4))\n",
    "result_algorithm_5 = np.zeros((4, 4))\n",
    "\n",
    "# Run each algorithm on the input matrices\n",
    "algorithm_1(matrix_a, matrix_b, result_algorithm_1, 4, 4, 4)\n",
    "algorithm_2(matrix_a, matrix_b, result_algorithm_2, 4, 4, 4)\n",
    "algorithm_3(matrix_a, matrix_b, result_algorithm_3, 4, 4, 4)\n",
    "algorithm_4(matrix_a, matrix_b, result_algorithm_4)\n",
    "algorithm_5(matrix_a, matrix_b, result_algorithm_5)\n",
    "\n",
    "# Print results\n",
    "print(f\"Algorithm-1: \\n{result_algorithm_1};\\n Algorithm-2: \\n{result_algorithm_2};\\n \"\n",
    "      f\"Algorithm-3: \\n{result_algorithm_3};\\n Algorithm-4: \\n{result_algorithm_4};\\n \"\n",
    "      f\"Algorithm-5: \\n{result_algorithm_5}\\n\")"
   ]
  },
  {
   "cell_type": "markdown",
   "id": "002fb13a-dd65-4ae1-aac4-8c3f8a310ce8",
   "metadata": {},
   "source": [
    "<h3>Step 4: Experiment 1</h3>"
   ]
  },
  {
   "cell_type": "markdown",
   "id": "bc2152a5-d7aa-4442-b876-c9c7ae1adabd",
   "metadata": {},
   "source": [
    "<h4>Generate Matrices</h4>"
   ]
  },
  {
   "cell_type": "markdown",
   "id": "dff6c20f-3673-45d9-879d-d06f4ff7bbf5",
   "metadata": {},
   "source": [
    "The following code is supposed to generate pairs of 30 square matrices of size 10x10, 20x20.... each containing randomly generated numbers from 0 to 1 as per the project description"
   ]
  },
  {
   "cell_type": "code",
   "execution_count": 8,
   "id": "64afd676-b300-4896-807d-00789726769a",
   "metadata": {},
   "outputs": [],
   "source": [
    "def generate_matrices(size):\n",
    "    matrices = []\n",
    "    for n in range(10, 301, 10):\n",
    "        matrix1 = np.random.rand(n, n)\n",
    "        matrix2 = np.random.rand(n, n)\n",
    "        matrices.append((matrix1, matrix2))\n",
    "    return matrices"
   ]
  },
  {
   "cell_type": "markdown",
   "id": "e21767b8-d1f7-43e2-880f-67ce345c294e",
   "metadata": {},
   "source": [
    "<h4>Measure Execution Time</h4>"
   ]
  },
  {
   "cell_type": "markdown",
   "id": "99f69834-bfd1-47e1-b48e-1983f65d25e0",
   "metadata": {},
   "source": [
    "The following code is supposed to measure the execution times of the algorithms and average it over 10 times in order to calculate the average time for the algorithm on a specific input size to be used later in Experiment 1."
   ]
  },
  {
   "cell_type": "markdown",
   "id": "e678e807-e758-41b4-ba19-c9c06d6f4602",
   "metadata": {},
   "source": [
    "<h4>Fill Data Frame</h4>"
   ]
  },
  {
   "cell_type": "markdown",
   "id": "06a1e56f-dc97-40f3-88e8-4cdcb46c5dca",
   "metadata": {},
   "source": [
    "The following code code computes the avearge of the times for Algorithms 1-3 across a given input size, then appends it to the data frame and prints it along with the theoretical values of the algorithms for the given input size.  It plots these values on a graph utilizing the Matplotlib import and uses the panda import for the data frame. "
   ]
  },
  {
   "cell_type": "markdown",
   "id": "d4de8f41-8c44-4c48-8744-687128a634f0",
   "metadata": {},
   "source": [
    "#NOTE: OpenAI's ChatGpt was used in brainstorming the implementation approach for this experiment.  "
   ]
  },
  {
   "cell_type": "markdown",
   "id": "2553442c-200c-4a6d-be5d-b70f55955294",
   "metadata": {},
   "source": [
    "#NOTE: GitHub's Copilot was used to fix the measure_time_c() function where denoted with comments in order to get the function to properly pass the paramaters of each of the algorithms. "
   ]
  },
  {
   "cell_type": "markdown",
   "id": "1ff7d2cc-3915-427d-95c8-3c44725de52d",
   "metadata": {},
   "source": [
    " #IMPLEMENTATION COMMENT: The \"meausre_time_c(algorithm_id, matrices) method, will work while in a seperate Jupyter Notebook Code cell, however, it messes up the look and clarity (not data) of the DataFrame for an unknown reason.  In order to avoid this, it was put into the same cell."
   ]
  },
  {
   "cell_type": "code",
   "execution_count": 9,
   "id": "55322808-5af3-4028-b392-be5c20a96009",
   "metadata": {},
   "outputs": [
    {
     "name": "stdout",
     "output_type": "stream",
     "text": [
      "    Size  Algorithm-1  Algorithm-2  Algorithm-3   dT1(n)e    dT2(n)e   dT3(n)e\n",
      "0     10   529.289246   324.249268   295.639038      1000      25000      1000\n",
      "1     20   319.480896   305.175781   250.339508      8000     200000      8000\n",
      "2     30   300.407410   228.881836   274.181366     27000     675000     27000\n",
      "3     40  2539.157867   309.944153   281.333923     64000    1600000     64000\n",
      "4     50   295.639038   269.412994   236.034393    125000    3125000    125000\n",
      "5     60   329.017639   293.254852   305.175781    216000    5400000    216000\n",
      "6     70   357.627869   309.944153   233.650208    343000    8575000    343000\n",
      "7     80   422.000885   324.249268   314.712524    512000   12800000    512000\n",
      "8     90   538.825989   207.424164   102.519989    729000   18225000    729000\n",
      "9    100   252.723694   190.734863    95.367432   1000000   25000000   1000000\n",
      "10   110   174.045563   195.503235   154.972076   1331000   33275000   1331000\n",
      "11   120   164.508820   102.519989   171.661377   1728000   43200000   1728000\n",
      "12   130   185.966492   152.587891   133.514404   2197000   54925000   2197000\n",
      "13   140   114.440918   190.734863   133.514404   2744000   68600000   2744000\n",
      "14   150   171.661377   154.972076   102.519989   3375000   84375000   3375000\n",
      "15   160   176.429749   133.514404   112.056732   4096000  102400000   4096000\n",
      "16   170   154.972076    90.599060   123.977661   4913000  122825000   4913000\n",
      "17   180   159.740448   123.977661   154.972076   5832000  145800000   5832000\n",
      "18   190   112.056732   143.051147    85.830688   6859000  171475000   6859000\n",
      "19   200   166.893005    90.599060   123.977661   8000000  200000000   8000000\n",
      "20   210   162.124634   112.056732   143.051147   9261000  231525000   9261000\n",
      "21   220    76.293945   123.977661    90.599060  10648000  266200000  10648000\n",
      "22   230    90.599060   114.440918   185.966492  12167000  304175000  12167000\n",
      "23   240   123.977661   164.508820    85.830688  13824000  345600000  13824000\n",
      "24   250   102.519989   133.514404   159.740448  15625000  390625000  15625000\n",
      "25   260    90.599060   123.977661    66.757202  17576000  439400000  17576000\n",
      "26   270   123.977661    81.062317   123.977661  19683000  492075000  19683000\n",
      "27   280   145.435333    85.830688   145.435333  21952000  548800000  21952000\n",
      "28   290   123.977661   143.051147    76.293945  24389000  609725000  24389000\n",
      "29   300   164.508820    85.830688   145.435333  27000000  675000000  27000000\n"
     ]
    },
    {
     "data": {
      "image/png": "[encoded data removed]",
      "text/plain": [
       "<Figure size 1000x600 with 1 Axes>"
      ]
     },
     "metadata": {},
     "output_type": "display_data"
    }
   ],
   "source": [
    "def measure_time_c(algorithm_id, matrices):\n",
    "    start_time = time.time()\n",
    "    times = []\n",
    "\n",
    "    for _ in range(10):  # Repeat 10 times for averaging\n",
    "        if algorithm_id == 1:\n",
    "            algorithm_1(*matrices) #CoPilot\n",
    "        elif algorithm_id == 2:\n",
    "            algorithm_2(*matrices) #CoPilot\n",
    "        elif algorithm_id == 3:\n",
    "            algorithm_3(*matrices) #CoPilot\n",
    "        elif algorithm_id == 4:\n",
    "            algorithm_4(*matrices) #CoPilot\n",
    "        elif algorithm_id == 5:\n",
    "            algorithm_5(*matrices) #CoPilot\n",
    "        end_time = time.time()\n",
    "        total_time = end_time - start_time\n",
    "        times.append(total_time)\n",
    "\n",
    "    return times\n",
    "\n",
    "#Fill Data Frame from here on\n",
    "    \n",
    "def experiment_1_c():\n",
    "    data = {\"Size\": [], \"Algorithm-1\": [], \"Algorithm-2\": [], \"Algorithm-3\": [], \"dT1(n)e\": [], \"dT2(n)e\": [], \"dT3(n)e\": []}\n",
    "    for size in range(10, 301, 10):\n",
    "        A = np.random.rand(size, size)\n",
    "        B = np.random.rand(size, size)\n",
    "        C = np.zeros((size, size))\n",
    "        matrices = [(A, B)] * 10  # Repeat matrices for 10 iterations\n",
    "\n",
    "        times_algo1 = measure_time_c(algorithm_1, matrices)\n",
    "        times_algo2 = measure_time_c(algorithm_2, matrices)\n",
    "        times_algo3 = measure_time_c(algorithm_3, matrices)\n",
    "\n",
    "        # Handle empty lists (no times recorded)\n",
    "        avg_time_algo1 = sum(times_algo1) / len(times_algo1) if times_algo1 else 0\n",
    "        avg_time_algo2 = sum(times_algo2) / len(times_algo2) if times_algo2 else 0\n",
    "        avg_time_algo3 = sum(times_algo3) / len(times_algo3) if times_algo3 else 0\n",
    "\n",
    "        data[\"Size\"].append(size)\n",
    "        data[\"Algorithm-1\"].append(avg_time_algo1 * 100000000)\n",
    "        data[\"Algorithm-2\"].append(avg_time_algo2 * 100000000)\n",
    "        data[\"Algorithm-3\"].append(avg_time_algo3 * 100000000)\n",
    "\n",
    "        # Calculate and add the theoretical values\n",
    "        p = size\n",
    "        q= size\n",
    "        r = size\n",
    "        \n",
    "        dT1 = p * q * r\n",
    "        dT2 = p * q * r * 25\n",
    "        dT3 = size ** 3\n",
    "        data[\"dT1(n)e\"].append(dT1)\n",
    "        data[\"dT2(n)e\"].append(dT2)\n",
    "        data[\"dT3(n)e\"].append(dT3)\n",
    "\n",
    "    df = pd.DataFrame(data)\n",
    "    print(df) \n",
    "    \n",
    "\n",
    "    plt.figure(figsize=(10, 6))\n",
    "    plt.plot(df['Size'], df['Algorithm-1'], label='Algorithm-1')\n",
    "    plt.plot(df['Size'], df['Algorithm-2'], label='Algorithm-2')\n",
    "    plt.plot(df['Size'], df['Algorithm-3'], label='Algorithm-3')\n",
    "    plt.plot(df['Size'], df['dT1(n)e'], label='dT1(n)e')\n",
    "    plt.plot(df['Size'], df['dT2(n)e'], label='dT2(n)e')\n",
    "    plt.plot(df['Size'], df['dT3(n)e'], label='dT3(n)e')\n",
    "    plt.xlabel('Input Size (n)')\n",
    "    plt.ylabel('Time(s)')\n",
    "    plt.title('Growth Rates of Algorithms')\n",
    "    plt.legend()\n",
    "    plt.grid(True)\n",
    "    plt.xlim(10, 300)\n",
    "    plt.ylim(0, 1000)\n",
    "    plt.show()\n",
    "\n",
    "experiment_1_c()\n"
   ]
  },
  {
   "cell_type": "markdown",
   "id": "4afdb537-74ab-46ab-8493-653e06d9cc1e",
   "metadata": {},
   "source": [
    "<h3>Step 5: Experiment 2</h3>"
   ]
  },
  {
   "cell_type": "markdown",
   "id": "296da106-6074-4853-8d7a-2546b7bd8cb9",
   "metadata": {},
   "source": [
    "<h4>Generate Exponentially Growing Square Matrices</h4>"
   ]
  },
  {
   "cell_type": "markdown",
   "id": "67ba49ff-74ee-4a24-9310-7793ae007c62",
   "metadata": {},
   "source": [
    "The code below is used to generate square matrices of increasing exponential size as per the project directions. "
   ]
  },
  {
   "cell_type": "code",
   "execution_count": null,
   "id": "6f0ad319-d4f9-4f3a-bcb0-be002db94aea",
   "metadata": {},
   "outputs": [],
   "source": [
    "def generate_exponential_matrices(start_exp, end_exp, include_pqr=False):\n",
    "    matrices_ABC = []\n",
    "    matrices_pqr = []\n",
    "    for i in range(start_exp, end_exp + 1):\n",
    "        size = 2 ** i\n",
    "        matrix_A = np.random.rand(size, size)\n",
    "        matrix_B = np.random.rand(size, size)\n",
    "        matrix_C = np.zeros((size, size))  # Initialize matrix C to zeros with the same size as A and B\n",
    "        matrices_ABC.append((matrix_A, matrix_B, matrix_C))\n",
    "        \n",
    "        if include_pqr:\n",
    "            matrices_pqr.append((size, size, size))  # Include pqr as separate matrices\n",
    "    if include_pqr:\n",
    "        return matrices_ABC, matrices_pqr\n",
    "    else:\n",
    "        return matrices_ABC"
   ]
  },
  {
   "cell_type": "markdown",
   "id": "cbeed429-3d13-407d-8e20-9715618a3022",
   "metadata": {},
   "source": [
    "<h4>Fill Data Frame</h4>"
   ]
  },
  {
   "cell_type": "markdown",
   "id": "4b5a4836-deb8-4f43-97f4-dc19b4a49bf8",
   "metadata": {},
   "source": [
    "The code below is used to carry out the process for experiment 4, measuring the time of the algorithms used (using the previous measure_time function) and plotting them against each other. "
   ]
  },
  {
   "cell_type": "code",
   "execution_count": null,
   "id": "93194377-210b-4b58-a0ed-2ab7650d49dd",
   "metadata": {},
   "outputs": [],
   "source": [
    "def experiment_2():\n",
    "    data = {\"Algorithm\": [], \"Matrix Size\": [], \"Time\": []}\n",
    "    for algorithm in [1, 3, 4, 5]:\n",
    "        for i in range(10):\n",
    "            size = 2 ** i\n",
    "            if algorithm in [1, 3]:\n",
    "                matrices_ABC, matrices_pqr = generate_exponential_matrices(i, i, include_pqr=True)\n",
    "                for (A, B, C), (p, q, r) in zip(matrices_ABC, matrices_pqr):\n",
    "                    time_taken = measure_time_d(algorithm, A, B, C, p, q, r)\n",
    "                    data[\"Algorithm\"].append(f\"Algorithm {algorithm}\")\n",
    "                    data[\"Matrix Size\"].append(size)\n",
    "                    data[\"Time\"].append(time_taken)\n",
    "            else:\n",
    "                matrices_ABC = generate_exponential_matrices(i, i)\n",
    "                for (A, B, C) in matrices_ABC:\n",
    "                    time_taken = measure_time_d(algorithm, A, B, C)\n",
    "                    data[\"Algorithm\"].append(f\"Algorithm {algorithm}\")\n",
    "                    data[\"Matrix Size\"].append(size)\n",
    "                    data[\"Time\"].append(time_taken)\n",
    "\n",
    "    df = pd.DataFrame(data)\n",
    "    print(\"Generated DataFrame:\")\n",
    "    print(df)\n",
    "    \n",
    "    plt.figure(figsize=(10, 6))\n",
    "    for algorithm in [1, 3, 4, 5]:\n",
    "        subset = df[df['Algorithm'] == f\"Algorithm {algorithm}\"]\n",
    "        plt.plot(subset['Matrix Size'], subset['Time'], label=f'Algorithm {algorithm}')\n",
    "\n",
    "    plt.xlabel('Matrix Size')\n",
    "    plt.ylabel('Time (s)')\n",
    "    plt.title('Execution Time vs. Matrix Size')\n",
    "    plt.legend()\n",
    "    plt.grid(True)\n",
    "    plt.show()\n",
    "    return df\n",
    "\n",
    "df = experiment_2()"
   ]
  },
  {
   "cell_type": "code",
   "execution_count": null,
   "id": "a492f3c7-1e31-4e86-b65e-99b5813fdd55",
   "metadata": {},
   "outputs": [],
   "source": []
  },
  {
   "cell_type": "code",
   "execution_count": 12,
   "id": "70d36f98-5aeb-4b6a-b9f7-ad2a30c819c7",
   "metadata": {},
   "outputs": [
    {
     "ename": "NameError",
     "evalue": "name 'algorithms' is not defined",
     "output_type": "error",
     "traceback": [
      "\u001b[0;31m---------------------------------------------------------------------------\u001b[0m",
      "\u001b[0;31mNameError\u001b[0m                                 Traceback (most recent call last)",
      "Cell \u001b[0;32mIn[12], line 18\u001b[0m\n\u001b[1;32m     15\u001b[0m     \u001b[38;5;28;01mreturn\u001b[39;00m times\n\u001b[1;32m     17\u001b[0m \u001b[38;5;66;03m# Adjust the call to measure_execution_time_multiple_algos with actual parameter values\u001b[39;00m\n\u001b[0;32m---> 18\u001b[0m times_experiment_2 \u001b[38;5;241m=\u001b[39m measure_execution_time_multiple_algos(\u001b[43malgorithms\u001b[49m, exponential_matrices, pqr_values)\n\u001b[1;32m     20\u001b[0m \u001b[38;5;66;03m# Now you can proceed to create the DataFrame and visualize the results\u001b[39;00m\n\u001b[1;32m     21\u001b[0m data_experiment_2 \u001b[38;5;241m=\u001b[39m {\n\u001b[1;32m     22\u001b[0m     \u001b[38;5;124m'\u001b[39m\u001b[38;5;124mSize\u001b[39m\u001b[38;5;124m'\u001b[39m: [size \u001b[38;5;28;01mfor\u001b[39;00m size, _ \u001b[38;5;129;01min\u001b[39;00m exponential_matrices],\n\u001b[1;32m     23\u001b[0m     \u001b[38;5;124m'\u001b[39m\u001b[38;5;124mAlgorithm-1 Time\u001b[39m\u001b[38;5;124m'\u001b[39m: times_experiment_2[\u001b[38;5;124m'\u001b[39m\u001b[38;5;124malgorithm_1\u001b[39m\u001b[38;5;124m'\u001b[39m],\n\u001b[0;32m   (...)\u001b[0m\n\u001b[1;32m     26\u001b[0m     \u001b[38;5;124m'\u001b[39m\u001b[38;5;124mAlgorithm-5 Time\u001b[39m\u001b[38;5;124m'\u001b[39m: times_experiment_2[\u001b[38;5;124m'\u001b[39m\u001b[38;5;124malgorithm_5\u001b[39m\u001b[38;5;124m'\u001b[39m],\n\u001b[1;32m     27\u001b[0m }\n",
      "\u001b[0;31mNameError\u001b[0m: name 'algorithms' is not defined"
     ]
    }
   ],
   "source": [
    "def measure_execution_time_multiple_algos(algorithms, matrices, dimensions):\n",
    "    times = {algo.__name__: [] for algo in algorithms}\n",
    "    for i, (_, matrix) in enumerate(matrices):\n",
    "        for algo in algorithms:\n",
    "            start_time = time.time()\n",
    "            if algo.__name__ == 'algorithm_4':\n",
    "                algo(matrix, np.zeros(dimensions[i]), np.zeros(dimensions[i]))\n",
    "            elif algo.__name__ == 'algorithm_5':\n",
    "                algo(matrix, np.zeros(dimensions[i]), np.zeros(dimensions[i]))\n",
    "            else:\n",
    "                algo(matrix, matrices[i][1], np.zeros(dimensions[i]), *dimensions[i])\n",
    "            end_time = time.time()\n",
    "            execution_time = end_time - start_time\n",
    "            times[algo.__name__].append(execution_time)\n",
    "    return times\n",
    "\n",
    "# Adjust the call to measure_execution_time_multiple_algos with actual parameter values\n",
    "times_experiment_2 = measure_execution_time_multiple_algos(algorithms, exponential_matrices, pqr_values)\n",
    "\n",
    "# Now you can proceed to create the DataFrame and visualize the results\n",
    "data_experiment_2 = {\n",
    "    'Size': [size for size, _ in exponential_matrices],\n",
    "    'Algorithm-1 Time': times_experiment_2['algorithm_1'],\n",
    "    'Algorithm-3 Time': times_experiment_2['algorithm_3'],\n",
    "    'Algorithm-4 Time': times_experiment_2['algorithm_4'],\n",
    "    'Algorithm-5 Time': times_experiment_2['algorithm_5'],\n",
    "}\n",
    "df_experiment_2 = pd.DataFrame(data_experiment_2)\n",
    "\n",
    "# Print the DataFrame for Experiment-II\n",
    "print(df_experiment_2)\n",
    "\n",
    "# Visualize growth rates for Experiment-II\n",
    "plt.plot(df_experiment_2['Size'], df_experiment_2['Algorithm-1 Time'], label='Algorithm-1 Time')\n",
    "plt.plot(df_experiment_2['Size'], df_experiment_2['Algorithm-3 Time'], label='Algorithm-3 Time')\n",
    "plt.plot(df_experiment_2['Size'], df_experiment_2['Algorithm-4 Time'], label='Algorithm-4 Time')\n",
    "plt.plot(df_experiment_2['Size'], df_experiment_2['Algorithm-5 Time'], label='Algorithm-5 Time')\n",
    "plt.xlabel('Input Size')\n",
    "plt.ylabel('Time')\n",
    "plt.legend()\n",
    "plt.show()"
   ]
  },
  {
   "cell_type": "code",
   "execution_count": null,
   "id": "80a718e4-6fda-4d9d-b584-6121bdea99a7",
   "metadata": {},
   "outputs": [],
   "source": []
  },
  {
   "cell_type": "markdown",
   "id": "16900e27-f97b-40fe-820e-3e1d9163416c",
   "metadata": {},
   "source": [
    "<h3>Step 6: Matrix Chain Multiplication</h3>"
   ]
  },
  {
   "cell_type": "markdown",
   "id": "61ef6276-08bc-4e57-8a9d-4bf4d72f4e02",
   "metadata": {},
   "source": [
    "<h4>Generate Matrix Chains</h4>"
   ]
  },
  {
   "cell_type": "markdown",
   "id": "c8ae2f9b-cd05-4911-8b81-67a1cdf31b4f",
   "metadata": {},
   "source": [
    "The code below is used to generate matrix chains as explained in the directions."
   ]
  },
  {
   "cell_type": "markdown",
   "id": "f28f6c2e-1172-4120-9191-553106ef95f9",
   "metadata": {},
   "source": [
    "<h4>Chain-Matrix-Multiply</h4>"
   ]
  },
  {
   "cell_type": "code",
   "execution_count": null,
   "id": "18285127-bf2a-4c4a-99be-996727bad8dc",
   "metadata": {},
   "outputs": [],
   "source": [
    "def chain_matrix_multiply(p, s, i, j):\n",
    "    if i == j:\n",
    "        return p[i - 1], p[i], 0\n",
    "    else:\n",
    "        A, B, count1 = chain_matrix_multiply(p, s, i, s[i][j])\n",
    "        C, D, count2 = chain_matrix_multiply(p, s, s[i][j] + 1, j)\n",
    "        count3 = A * B * D\n",
    "        return A, D, count1 + count2 + count3"
   ]
  },
  {
   "cell_type": "markdown",
   "id": "89cc12f1-715c-43f3-836a-bc2805c65a48",
   "metadata": {},
   "source": [
    "<h4>Time Matrix Chain Multiplication for Algorithms</h4>"
   ]
  },
  {
   "cell_type": "code",
   "execution_count": null,
   "id": "0cd0ebfd-c63c-4cb3-b573-042cfb59512a",
   "metadata": {},
   "outputs": [],
   "source": [
    "def measure_execution_time(matrix_chain):\n",
    "    start_time = time.time()\n",
    "    # Run Algorithm-1\n",
    "    result_algo_1 = algorithm_1(*matrix_chain[0])\n",
    "    \n",
    "    # Run Chain-Matrix-Multiplication-Algorithm\n",
    "    result_chain_matrix = chain_matrix_multiplication(matrix_chain)\n",
    "    \n",
    "    end_time = time.time()\n",
    "    execution_time = end_time - start_time\n",
    "    return execution_time"
   ]
  },
  {
   "cell_type": "markdown",
   "id": "32553db1-0f93-4b84-915e-25981d2f22cc",
   "metadata": {},
   "source": [
    "<h4>Plot and Visualize Results</h4>"
   ]
  },
  {
   "cell_type": "code",
   "execution_count": null,
   "id": "2b46f56f-80b7-48c1-acef-bf89408ac3eb",
   "metadata": {},
   "outputs": [],
   "source": [
    "\n",
    "matrix_chains = generate_matrix_chains(19)\n",
    "\n",
    "# Measure execution time for each chain\n",
    "execution_times = []\n",
    "for chain in matrix_chains:\n",
    "    execution_time = measure_execution_time(chain)\n",
    "    execution_times.append(execution_time)\n",
    "\n",
    "# Print the execution times for each chain\n",
    "for i, time_taken in enumerate(execution_times):\n",
    "    print(f\"Chain {i+1}: Execution Time = {time_taken} seconds\")"
   ]
  },
  {
   "cell_type": "code",
   "execution_count": null,
   "id": "67be7d11-8fd6-4a45-b8ab-8d1522a99b1c",
   "metadata": {},
   "outputs": [],
   "source": []
  },
  {
   "cell_type": "markdown",
   "id": "8892c900-6383-45f8-9615-b9c70e9a17a3",
   "metadata": {},
   "source": [
    "<h4>Matrix-Chain-Order</h4>"
   ]
  },
  {
   "cell_type": "markdown",
   "id": "a187aff4-6b4f-4b60-be45-afa630b5ad0d",
   "metadata": {},
   "source": [
    "The following code is my implementation of the MATRIX-CHAIN-ORDER algorithm provided in the project details."
   ]
  },
  {
   "cell_type": "code",
   "execution_count": null,
   "id": "e5ff8330-0f34-4e03-8275-7af6f15242f8",
   "metadata": {},
   "outputs": [],
   "source": [
    "def matrix_chain_order(p, n):\n",
    "        m = [[0 for x in range(n)] for x in range(n)]\n",
    "        s = [[0 for x in range(2, n)] for x in range(n - 1)]\n",
    "\n",
    "        for i in range(1, n):\n",
    "            m[i][i] = 0\n",
    "\n",
    "        for l in range(2, n):\n",
    "            for i in range(1, n - l + 1):\n",
    "                j = i + l - 1\n",
    "                m[i][j] = float('inf')\n",
    "                for k in range(i, j):\n",
    "                    q = m[i][k] + m[k + 1][j] + p[i - 1] * p[k] * p[j]\n",
    "                    if q < m[i][j]:\n",
    "                        m[i][j] = q\n",
    "                        s[i][j - 1] = k\n",
    "        return m, s"
   ]
  },
  {
   "cell_type": "code",
   "execution_count": null,
   "id": "f3856fe5-b900-4f40-ba35-e3addfc97664",
   "metadata": {},
   "outputs": [],
   "source": [
    "def matrix_chain_order(p, n):\n",
    "    m = [[0] * n for _ in range(n)]\n",
    "    s = [[0] * (n - 1) for _ in range(n - 1)]\n",
    "\n",
    "    for length in range(2, n + 1):\n",
    "        for i in range(n - length + 1):\n",
    "            j = i + length - 1\n",
    "            m[i][j] = float('inf')\n",
    "            for k in range(i, j):\n",
    "                q = m[i][k] + m[k + 1][j] + p[i] * p[k + 1] * p[j + 1]\n",
    "                if q < m[i][j]:\n",
    "                    m[i][j] = q\n",
    "                    s[i][j - 1] = k\n",
    "\n",
    "    return m, s\n",
    "\n",
    "def chain_matrix_multiply(p, s, i, j):\n",
    "    if i == j:\n",
    "        return p[i - 1], p[i], 0  # Return matrix dimensions and execution time\n",
    "    else:\n",
    "        start_time = time.time()  # Start measuring execution time\n",
    "        A, B, count1 = chain_matrix_multiply(p, s, i, s[i - 1][j - 2] + 1)\n",
    "        C, D, count2 = chain_matrix_multiply(p, s, s[i - 1][j - 2] + 2, j)\n",
    "        count3 = A * B * D\n",
    "        end_time = time.time()  # End measuring execution time\n",
    "        return A, D, count1 + count2 + count3, end_time - start_time  # Include execution time\n",
    "\n",
    "def generate_matrix_chains():\n",
    "    matrix_chains = []\n",
    "    for j in range(2, 21):\n",
    "        dimensions = []\n",
    "        for i in range(10):\n",
    "            p = np.random.randint(10, j * 10)\n",
    "            dimensions.append((p, p + 1))\n",
    "        matrix_chains.append(dimensions)\n",
    "    return matrix_chains\n",
    "\n",
    "matrix_chains = generate_matrix_chains()\n",
    "\n",
    "data = {\"Matrix Chain ID\": [], \"Upper Bound Matrix Size\": [], \"Sequential Performance\": [], \"Optimal Performance\": []}\n",
    "\n",
    "for idx, matrix_chain in enumerate(matrix_chains, start=2):\n",
    "    upper_bound_size = idx * 10\n",
    "\n",
    "    p = [dim[0] for dim in matrix_chain] + [matrix_chain[-1][1]]\n",
    "    m, s = matrix_chain_order(p, len(p))\n",
    "\n",
    "    # Sequential multiplication\n",
    "    start_time_seq = time.time()\n",
    "    A, B, _, seq_performance = chain_matrix_multiply(p, None, 1, len(p) - 1)  # Ignore count and return execution time\n",
    "    end_time_seq = time.time()\n",
    "    seq_performance = end_time_seq - start_time_seq\n",
    "\n",
    "    # Optimal multiplication using MATRIX-CHAIN-ORDER algorithm\n",
    "    start_time_opt = time.time()\n",
    "    A, B, _, opt_performance = chain_matrix_multiply(p, s, 1, len(p) - 1)  # Ignore count and return execution time\n",
    "    end_time_opt = time.time()\n",
    "    opt_performance = end_time_opt - start_time_opt\n",
    "\n",
    "    data[\"Matrix Chain ID\"].append(idx)\n",
    "    data[\"Upper Bound Matrix Size\"].append(upper_bound_size)\n",
    "    data[\"Sequential Performance\"].append(seq_performance)\n",
    "    data[\"Optimal Performance\"].append(opt_performance)\n",
    "\n",
    "df = pd.DataFrame(data)\n",
    "print(df)\n",
    "\n",
    "plt.figure(figsize=(10, 6))\n",
    "plt.plot(df['Upper Bound Matrix Size'], df['Sequential Performance'], label='Sequential Performance')\n",
    "plt.plot(df['Upper Bound Matrix Size'], df['Optimal Performance'], label='Optimal Performance')\n",
    "plt.xlabel('Upper Bound Matrix Size')\n",
    "plt.ylabel('Execution Time (s)')\n",
    "plt.title('Performance Comparison: Sequential vs Optimal Multiplication')\n",
    "plt.legend()\n",
    "plt.grid(True)\n",
    "plt.show()"
   ]
  },
  {
   "cell_type": "code",
   "execution_count": null,
   "id": "74718f3b-37fe-42e0-a058-52b39319a03f",
   "metadata": {},
   "outputs": [],
   "source": []
  }
 ],
 "metadata": {
  "kernelspec": {
   "display_name": "Python 3 (ipykernel)",
   "language": "python",
   "name": "python3"
  },
  "language_info": {
   "codemirror_mode": {
    "name": "ipython",
    "version": 3
   },
   "file_extension": ".py",
   "mimetype": "text/x-python",
   "name": "python",
   "nbconvert_exporter": "python",
   "pygments_lexer": "ipython3",
   "version": "3.10.5"
  }
 },
 "nbformat": 4,
 "nbformat_minor": 5
}
